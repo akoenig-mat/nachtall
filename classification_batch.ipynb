{
 "cells": [
  {
   "cell_type": "code",
   "execution_count": null,
   "metadata": {
    "_cell_guid": "b1076dfc-b9ad-4769-8c92-a6c4dae69d19",
    "_uuid": "8f2839f25d086af736a60e9eeb907d3b93b6e0e5"
   },
   "outputs": [],
   "source": [
    "import numpy as np\n",
    "import pandas as pd\n",
    "import wave\n",
    "from scipy.io import wavfile\n",
    "import os\n",
    "import librosa\n",
    "from librosa.feature import melspectrogram\n",
    "import warnings\n",
    "from PIL import Image\n",
    "from uuid import uuid4\n",
    "import sklearn\n",
    "from tqdm import tqdm\n",
    "\n",
    "from tensorflow import keras\n",
    "from tensorflow.keras.models import Model\n"
   ]
  },
  {
   "cell_type": "code",
   "execution_count": null,
   "metadata": {
    "tags": []
   },
   "outputs": [],
   "source": [
    "birds_to_recognise = ['House Sparrow', 'Common Blackbird', 'Great Tit', 'Common Starling', 'Eurasian Blue Tit', 'Eurasian Tree Sparrow', 'Eurasian Magpie', 'Common Wood Pigeon', 'European Robin', 'Common House Martin', 'Common Swift', 'Carrion Crow', 'Common Chaffinch', 'Eurasian Collared Dove', 'European Goldfinch', 'Great Spotted Woodpecker', 'Barn Swallow', 'Eurasian Jay', 'Rock Dove', 'Eurasian Bullfinch']\n"
   ]
  },
  {
   "cell_type": "code",
   "execution_count": null,
   "metadata": {},
   "outputs": [],
   "source": [
    "classes_to_predict = birds_to_recognise"
   ]
  },
  {
   "cell_type": "code",
   "execution_count": null,
   "metadata": {},
   "outputs": [],
   "source": [
    "model = keras.models.load_model(\"/home/dvm/Desktop/nachtall_final.h5\")\n"
   ]
  },
  {
   "cell_type": "code",
   "execution_count": null,
   "metadata": {},
   "outputs": [],
   "source": [
    "def predict_on_melspectrogram(song_sample, sample_length):\n",
    "    N_mels=216\n",
    "\n",
    "    if len(song_sample)>=sample_length:\n",
    "        mel = melspectrogram(song_sample, n_mels=N_mels, sr=22050)\n",
    "        db = librosa.power_to_db(mel)\n",
    "        normalised_db = sklearn.preprocessing.minmax_scale(db)\n",
    "        db_array = (np.asarray(normalised_db)*255).astype(np.uint8)\n",
    "        prediction = model.predict(np.array([np.array([db_array, db_array, db_array]).T]))\n",
    "        predicted_bird = classes_to_predict[np.argmax(prediction)]\n",
    "        if predicted_bird==\"Barn Swallow\":\n",
    "            predicted_bird=\"nocall\"\n",
    "   #     db_image =  Image.fromarray(np.array([db_array, db_array, db_array]).T)\n",
    "   #     demo_img = db_image\n",
    "   #     plt.imshow(demo_img)\n",
    "   #     plt.show()\n",
    "        return predicted_bird\n",
    "    else:\n",
    "        return \"nocall\"\n",
    "    \n"
   ]
  },
  {
   "cell_type": "code",
   "execution_count": null,
   "metadata": {
    "tags": []
   },
   "outputs": [],
   "source": [
    "wav_df = pd.read_csv('./dataframes/wav_dataframe.csv')\n",
    "\n",
    "classification = []\n",
    "\n",
    "for index, row in wav_df.iterrows():\n",
    "    print(row[0])\n",
    "    chunk_filename = row[0]\n",
    "    wave_data, wave_rate = librosa.load(chunk_filename, sr=22050)\n",
    "    sample_length = 5*wave_rate\n",
    "    song_sample = np.array(wave_data[0:sample_length])\n",
    "    predicted_bird = predict_on_melspectrogram(song_sample, sample_length)\n",
    "    classification.append(predicted_bird)\n",
    "    print(predicted_bird)\n",
    "\n",
    "\n",
    "classification_df = pd.DataFrame(classification, columns=['Classification'])\n",
    "class_new = pd.concat([wav_df, classification_df], axis=1, ignore_index=True )\n",
    "class_new.to_csv('./dataframes/class_df.csv', index=False)\n",
    "\n",
    "\n",
    "\n",
    "\n",
    "\n"
   ]
  },
  {
   "cell_type": "markdown",
   "metadata": {},
   "source": [
    "Below, We can test our prediction function using the examples provided."
   ]
  }
 ],
 "metadata": {
  "interpreter": {
   "hash": "31f2aee4e71d21fbe5cf8b01ff0e069b9275f58929596ceb00d14d90e3e16cd6"
  },
  "kernelspec": {
   "display_name": "Python 3.6.9 64-bit",
   "name": "python3"
  },
  "language_info": {
   "codemirror_mode": {
    "name": "ipython",
    "version": 3
   },
   "file_extension": ".py",
   "mimetype": "text/x-python",
   "name": "python",
   "nbconvert_exporter": "python",
   "pygments_lexer": "ipython3",
   "version": "3.6.9"
  }
 },
 "nbformat": 4,
 "nbformat_minor": 4
}