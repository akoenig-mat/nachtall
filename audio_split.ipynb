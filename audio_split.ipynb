{
 "cells": [
  {
   "cell_type": "code",
   "execution_count": 9,
   "metadata": {},
   "outputs": [],
   "source": [
    "from pydub import AudioSegment\n",
    "from pydub.utils import make_chunks\n",
    "from uuid import uuid1\n",
    "import pandas as pd"
   ]
  },
  {
   "cell_type": "code",
   "execution_count": 20,
   "metadata": {},
   "outputs": [],
   "source": [
    "def wav_split(rec_filename, chunk_length_ms):\n",
    "    audiofile = AudioSegment.from_wav(rec_filename , \"wav\")\n",
    "    chunks = make_chunks(audiofile, chunk_length_ms)\n",
    "    for i, chunk in enumerate(chunks):\n",
    "        chunk_filename = rec_filename.replace('.wav', '')\n",
    "        chunk_name = chunk_filename +\"_N{0}.wav\".format(i)\n",
    "        print (\"exporting\", chunk_name)         \n",
    "        chunk.export(chunk_name, format=\"wav\")\n",
    "        wav_files.append(chunk_name)"
   ]
  },
  {
   "cell_type": "code",
   "execution_count": null,
   "metadata": {},
   "outputs": [],
   "source": [
    "recordings = pd.read_csv('./dataframes/recordings.csv')\n",
    "wav_files = []\n",
    "\n",
    "for index, row in recordings.iterrows():\n",
    "    print(row[0])\n",
    "    rec_filename = row[0]\n",
    "    chunk_length_ms = 5000 \n",
    "    wav_split(rec_filename , chunk_length_ms)\n"
   ]
  },
  {
   "cell_type": "code",
   "execution_count": 22,
   "metadata": {},
   "outputs": [],
   "source": [
    "wav_dataframe = pd.DataFrame(wav_files, columns=['wav_chunks_filename'])\n",
    "wav_dataframe.to_csv('./dataframes/wav_dataframe.csv', index=False)"
   ]
  }
 ],
 "metadata": {
  "interpreter": {
   "hash": "31f2aee4e71d21fbe5cf8b01ff0e069b9275f58929596ceb00d14d90e3e16cd6"
  },
  "kernelspec": {
   "display_name": "Python 3.6.9 64-bit",
   "name": "python3"
  },
  "language_info": {
   "codemirror_mode": {
    "name": "ipython",
    "version": 3
   },
   "file_extension": ".py",
   "mimetype": "text/x-python",
   "name": "python",
   "nbconvert_exporter": "python",
   "pygments_lexer": "ipython3",
   "version": "3.6.9"
  },
  "orig_nbformat": 4
 },
 "nbformat": 4,
 "nbformat_minor": 2
}