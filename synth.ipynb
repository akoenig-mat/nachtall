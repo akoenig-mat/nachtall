{
 "cells": [
  {
   "cell_type": "code",
   "execution_count": 1,
   "metadata": {},
   "outputs": [
    {
     "name": "stderr",
     "output_type": "stream",
     "text": [
      "Matplotlib created a temporary config/cache directory at /tmp/matplotlib-8d6kukgl because the default path (/home/dvm/.config/matplotlib) is not a writable directory; it is highly recommended to set the MPLCONFIGDIR environment variable to a writable directory, in particular to speed up the import of Matplotlib and to better support multiprocessing.\n",
      "Matplotlib is building the font cache; this may take a moment.\n"
     ]
    },
    {
     "name": "stdout",
     "output_type": "stream",
     "text": [
      "WARNING:tensorflow:From /usr/local/lib/python3.6/dist-packages/tensorflow/python/util/deprecation.py:538: UniformUnitScaling.__init__ (from tensorflow.python.ops.init_ops) is deprecated and will be removed in a future version.\n",
      "Instructions for updating:\n",
      "Use tf.initializers.variance_scaling instead with distribution=uniform to get equivalent behavior.\n"
     ]
    }
   ],
   "source": [
    "import os\n",
    "import sklearn\n",
    "import numpy as np\n",
    "import pandas as pd\n",
    "import matplotlib.pyplot as plt\n",
    "from magenta.models.nsynth import utils\n",
    "from magenta.models.nsynth.wavenet import fastgen\n",
    "from IPython.display import Audio\n",
    "import librosa\n",
    "import soundfile as sf"
   ]
  },
  {
   "cell_type": "code",
   "execution_count": 2,
   "metadata": {},
   "outputs": [],
   "source": [
    "sequence = pd.read_csv('./dataframes/sequence_tst_df.csv')"
   ]
  },
  {
   "cell_type": "code",
   "execution_count": 19,
   "metadata": {},
   "outputs": [
    {
     "name": "stdout",
     "output_type": "stream",
     "text": [
      "loading:_./samples/Carrion Crow _10_sec.npy\n",
      "appending:  and ./samples/Carrion Crow _10_sec.npy\n",
      "loading:_./samples/Common Swift_5_sec.npy\n",
      "appending: ./samples/Carrion Crow _10_sec.npy and ./samples/Common Swift_5_sec.npy\n",
      "loading:_./samples/Carrion Crow _10_sec.npy\n",
      "appending: ./samples/Common Swift_5_sec.npy and ./samples/Carrion Crow _10_sec.npy\n",
      "loading:_./samples/Common Wood Pigeon_5_sec.npy\n",
      "appending: ./samples/Carrion Crow _10_sec.npy and ./samples/Common Wood Pigeon_5_sec.npy\n",
      "loading:_./samples/Carrion Crow _10_sec.npy\n",
      "appending: ./samples/Common Wood Pigeon_5_sec.npy and ./samples/Carrion Crow _10_sec.npy\n",
      "loading:_./samples/Common Wood Pigeon_5_sec.npy\n",
      "appending: ./samples/Carrion Crow _10_sec.npy and ./samples/Common Wood Pigeon_5_sec.npy\n",
      "loading:_./samples/Carrion Crow _10_sec.npy\n",
      "appending: ./samples/Common Wood Pigeon_5_sec.npy and ./samples/Carrion Crow _10_sec.npy\n",
      "loading:_./samples/Common Wood Pigeon_5_sec.npy\n",
      "appending: ./samples/Carrion Crow _10_sec.npy and ./samples/Common Wood Pigeon_5_sec.npy\n",
      "loading:_./samples/Common Wood Pigeon_5_sec.npy\n",
      "appending: ./samples/Common Wood Pigeon_5_sec.npy and ./samples/Common Wood Pigeon_5_sec.npy\n"
     ]
    }
   ],
   "source": [
    "sample = \"\"\n",
    "old_np = np.load(\"./samples/Common Wood Pigeon_5_sec.npy\")\n",
    "#old_np = utils.load_audio(\"./samples/Common Wood Pigeon_5_sec.npy\",\n",
    "#                             sample_length=50000,\n",
    "#                             sr=22050)\n",
    "old = \"\"\n",
    "fin_length = 0\n",
    "\n",
    "for row in sequence.itertuples():\n",
    "    name = str(row[1])\n",
    "    count = str(row[2]*5)\n",
    "    length = int(row[2]*5000)\n",
    "    sample = \"./samples/\" + name + \"_\" + count + \"_sec.npy\"\n",
    "    print(\"loading:_\" + sample)\n",
    "    sample_np = np.load(sample)\n",
    "#    sample_np = utils.load_audio(sample,\n",
    "#                             sample_length=length,\n",
    "#                             sr=22050)\n",
    "    sample_np = old_np + sample_np\n",
    "#    sample_np = np.add(old_np, sample_np)\n",
    "    print(\"appending: \" + old + \" and \" + sample)\n",
    "    old_np = sample_np\n",
    "    old = sample\n",
    "    fin_length = fin_length + length\n",
    "#   print(sample)\n",
    "#load_encoding('176098__xserra__cello-cant-dels-ocells.wav', sample_length)\n",
    "\n",
    "#encoding = fastgen.encode(old, './wavenet-ckpt/model.ckpt-200000', 75000 )\n",
    "\n"
   ]
  },
  {
   "cell_type": "code",
   "execution_count": null,
   "metadata": {},
   "outputs": [],
   "source": [
    "fastgen.synthesize(\n",
    "    sample_np,\n",
    "    save_paths=['gen_hase.wav'],\n",
    "    checkpoint_path='./wavenet-ckpt/model.ckpt-200000',\n",
    "    samples_per_save=10000)"
   ]
  },
  {
   "cell_type": "code",
   "execution_count": 20,
   "metadata": {},
   "outputs": [
    {
     "ename": "ValueError",
     "evalue": "The passed save_path is not a valid checkpoint: model.ckpt-200000",
     "output_type": "error",
     "traceback": [
      "\u001b[0;31m---------------------------------------------------------------------------\u001b[0m",
      "\u001b[0;31mValueError\u001b[0m                                Traceback (most recent call last)",
      "\u001b[0;32m<ipython-input-20-7bec8a6c9aad>\u001b[0m in \u001b[0;36m<module>\u001b[0;34m\u001b[0m\n\u001b[0;32m----> 1\u001b[0;31m \u001b[0mfastgen\u001b[0m\u001b[0;34m.\u001b[0m\u001b[0msynthesize\u001b[0m\u001b[0;34m(\u001b[0m \u001b[0msample_np\u001b[0m\u001b[0;34m,\u001b[0m \u001b[0msave_paths\u001b[0m\u001b[0;34m=\u001b[0m\u001b[0;34m[\u001b[0m\u001b[0;34m'Test.wav'\u001b[0m\u001b[0;34m]\u001b[0m\u001b[0;34m)\u001b[0m\u001b[0;34m\u001b[0m\u001b[0;34m\u001b[0m\u001b[0m\n\u001b[0m",
      "\u001b[0;32m/usr/local/etc/magenta/magenta/models/nsynth/wavenet/fastgen.py\u001b[0m in \u001b[0;36msynthesize\u001b[0;34m(encodings, save_paths, checkpoint_path, samples_per_save)\u001b[0m\n\u001b[1;32m    214\u001b[0m     \u001b[0mnet\u001b[0m \u001b[0;34m=\u001b[0m \u001b[0mload_fastgen_nsynth\u001b[0m\u001b[0;34m(\u001b[0m\u001b[0mbatch_size\u001b[0m\u001b[0;34m=\u001b[0m\u001b[0mencodings\u001b[0m\u001b[0;34m.\u001b[0m\u001b[0mshape\u001b[0m\u001b[0;34m[\u001b[0m\u001b[0;36m0\u001b[0m\u001b[0;34m]\u001b[0m\u001b[0;34m)\u001b[0m\u001b[0;34m\u001b[0m\u001b[0;34m\u001b[0m\u001b[0m\n\u001b[1;32m    215\u001b[0m     \u001b[0msaver\u001b[0m \u001b[0;34m=\u001b[0m \u001b[0mtf\u001b[0m\u001b[0;34m.\u001b[0m\u001b[0mtrain\u001b[0m\u001b[0;34m.\u001b[0m\u001b[0mSaver\u001b[0m\u001b[0;34m(\u001b[0m\u001b[0;34m)\u001b[0m\u001b[0;34m\u001b[0m\u001b[0;34m\u001b[0m\u001b[0m\n\u001b[0;32m--> 216\u001b[0;31m     \u001b[0msaver\u001b[0m\u001b[0;34m.\u001b[0m\u001b[0mrestore\u001b[0m\u001b[0;34m(\u001b[0m\u001b[0msess\u001b[0m\u001b[0;34m,\u001b[0m \u001b[0mcheckpoint_path\u001b[0m\u001b[0;34m)\u001b[0m\u001b[0;34m\u001b[0m\u001b[0;34m\u001b[0m\u001b[0m\n\u001b[0m\u001b[1;32m    217\u001b[0m \u001b[0;34m\u001b[0m\u001b[0m\n\u001b[1;32m    218\u001b[0m     \u001b[0;31m# Get lengths\u001b[0m\u001b[0;34m\u001b[0m\u001b[0;34m\u001b[0m\u001b[0;34m\u001b[0m\u001b[0m\n",
      "\u001b[0;32m/usr/local/lib/python3.6/dist-packages/tensorflow/python/training/saver.py\u001b[0m in \u001b[0;36mrestore\u001b[0;34m(self, sess, save_path)\u001b[0m\n\u001b[1;32m   1288\u001b[0m     \u001b[0;32mif\u001b[0m \u001b[0;32mnot\u001b[0m \u001b[0mcheckpoint_management\u001b[0m\u001b[0;34m.\u001b[0m\u001b[0mcheckpoint_exists_internal\u001b[0m\u001b[0;34m(\u001b[0m\u001b[0mcheckpoint_prefix\u001b[0m\u001b[0;34m)\u001b[0m\u001b[0;34m:\u001b[0m\u001b[0;34m\u001b[0m\u001b[0;34m\u001b[0m\u001b[0m\n\u001b[1;32m   1289\u001b[0m       raise ValueError(\"The passed save_path is not a valid checkpoint: \" +\n\u001b[0;32m-> 1290\u001b[0;31m                        checkpoint_prefix)\n\u001b[0m\u001b[1;32m   1291\u001b[0m \u001b[0;34m\u001b[0m\u001b[0m\n\u001b[1;32m   1292\u001b[0m     \u001b[0mlogging\u001b[0m\u001b[0;34m.\u001b[0m\u001b[0minfo\u001b[0m\u001b[0;34m(\u001b[0m\u001b[0;34m\"Restoring parameters from %s\"\u001b[0m\u001b[0;34m,\u001b[0m \u001b[0mcheckpoint_prefix\u001b[0m\u001b[0;34m)\u001b[0m\u001b[0;34m\u001b[0m\u001b[0;34m\u001b[0m\u001b[0m\n",
      "\u001b[0;31mValueError\u001b[0m: The passed save_path is not a valid checkpoint: model.ckpt-200000"
     ]
    }
   ],
   "source": [
    "fastgen.synthesize( sample_np, save_paths=['Test.wav'], checkpoint_path='./wavenet-ckpt/model.ckpt-200000')"
   ]
  }
 ],
 "metadata": {
  "interpreter": {
   "hash": "31f2aee4e71d21fbe5cf8b01ff0e069b9275f58929596ceb00d14d90e3e16cd6"
  },
  "kernelspec": {
   "display_name": "Python 3.6.9 64-bit",
   "language": "python",
   "name": "python3"
  },
  "language_info": {
   "codemirror_mode": {
    "name": "ipython",
    "version": 3
   },
   "file_extension": ".py",
   "mimetype": "text/x-python",
   "name": "python",
   "nbconvert_exporter": "python",
   "pygments_lexer": "ipython3",
   "version": "3.6.9"
  },
  "orig_nbformat": 4
 },
 "nbformat": 4,
 "nbformat_minor": 2
}
