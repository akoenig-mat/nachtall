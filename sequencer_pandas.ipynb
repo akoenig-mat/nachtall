{
 "cells": [
  {
   "cell_type": "code",
   "execution_count": 1,
   "metadata": {},
   "outputs": [],
   "source": [
    "import pandas as pd\n",
    "import numpy as np"
   ]
  },
  {
   "cell_type": "code",
   "execution_count": 2,
   "metadata": {},
   "outputs": [
    {
     "data": {
      "text/html": [
       "<div>\n",
       "<style scoped>\n",
       "    .dataframe tbody tr th:only-of-type {\n",
       "        vertical-align: middle;\n",
       "    }\n",
       "\n",
       "    .dataframe tbody tr th {\n",
       "        vertical-align: top;\n",
       "    }\n",
       "\n",
       "    .dataframe thead th {\n",
       "        text-align: right;\n",
       "    }\n",
       "</style>\n",
       "<table border=\"1\" class=\"dataframe\">\n",
       "  <thead>\n",
       "    <tr style=\"text-align: right;\">\n",
       "      <th></th>\n",
       "      <th>Class</th>\n",
       "    </tr>\n",
       "  </thead>\n",
       "  <tbody>\n",
       "    <tr>\n",
       "      <th>0</th>\n",
       "      <td>nocall</td>\n",
       "    </tr>\n",
       "    <tr>\n",
       "      <th>1</th>\n",
       "      <td>nocall</td>\n",
       "    </tr>\n",
       "    <tr>\n",
       "      <th>2</th>\n",
       "      <td>nocall</td>\n",
       "    </tr>\n",
       "    <tr>\n",
       "      <th>3</th>\n",
       "      <td>nocall</td>\n",
       "    </tr>\n",
       "    <tr>\n",
       "      <th>4</th>\n",
       "      <td>Common Swift</td>\n",
       "    </tr>\n",
       "    <tr>\n",
       "      <th>...</th>\n",
       "      <td>...</td>\n",
       "    </tr>\n",
       "    <tr>\n",
       "      <th>475</th>\n",
       "      <td>Common Swift</td>\n",
       "    </tr>\n",
       "    <tr>\n",
       "      <th>476</th>\n",
       "      <td>nocall</td>\n",
       "    </tr>\n",
       "    <tr>\n",
       "      <th>477</th>\n",
       "      <td>nocall</td>\n",
       "    </tr>\n",
       "    <tr>\n",
       "      <th>478</th>\n",
       "      <td>nocall</td>\n",
       "    </tr>\n",
       "    <tr>\n",
       "      <th>479</th>\n",
       "      <td>nocall</td>\n",
       "    </tr>\n",
       "  </tbody>\n",
       "</table>\n",
       "<p>480 rows × 1 columns</p>\n",
       "</div>"
      ],
      "text/plain": [
       "            Class\n",
       "0          nocall\n",
       "1          nocall\n",
       "2          nocall\n",
       "3          nocall\n",
       "4    Common Swift\n",
       "..            ...\n",
       "475  Common Swift\n",
       "476        nocall\n",
       "477        nocall\n",
       "478        nocall\n",
       "479        nocall\n",
       "\n",
       "[480 rows x 1 columns]"
      ]
     },
     "execution_count": 2,
     "metadata": {},
     "output_type": "execute_result"
    }
   ],
   "source": [
    "class_df = pd.read_csv('./dataframes/class_df.csv')\n",
    "class_df = class_df.drop( axis=1 , columns='0' )\n",
    "#class_df = class_df.rename(columns={'1': 'Class'} )\n",
    "class_df"
   ]
  },
  {
   "cell_type": "code",
   "execution_count": 23,
   "metadata": {},
   "outputs": [
    {
     "name": "stdout",
     "output_type": "stream",
     "text": [
      "                      0  1\n",
      "0                nocall  2\n",
      "1          Common Swift  1\n",
      "2                nocall  2\n",
      "3    Common Wood Pigeon  1\n",
      "4                nocall  2\n",
      "..                  ... ..\n",
      "140        Common Swift  1\n",
      "141              nocall  2\n",
      "142  Common Wood Pigeon  2\n",
      "143              nocall  2\n",
      "144        Common Swift  1\n",
      "\n",
      "[145 rows x 2 columns]\n"
     ]
    }
   ],
   "source": [
    "sequence = []\n",
    "classification = []\n",
    "\n",
    "count = 1\n",
    "old = ('nocall')\n",
    "for row in class_df.itertuples(name='Class', index=False):\n",
    "    if old == row:\n",
    "        count = count + 1\n",
    "        if count > 2:\n",
    "            count = 2           \n",
    "    else:\n",
    "        #print(old, count)\n",
    "        sequence.append(count)\n",
    "        classification.append(old)\n",
    "        count = 1\n",
    "    old = row\n",
    "\n",
    "sequence.pop(0)\n",
    "classification.pop(0)\n",
    "sequence_df = pd.DataFrame(sequence, columns=['Sequence'])\n",
    "classification_df = pd.DataFrame(classification, columns=['Class'])\n",
    "sequence_df = pd.concat([classification_df, sequence_df], axis=1, ignore_index=True )\n",
    "print(sequence_df)\n",
    "sequence_df.to_csv('./dataframes/sequence_df.csv', index=False)\n"
   ]
  }
 ],
 "metadata": {
  "interpreter": {
   "hash": "31f2aee4e71d21fbe5cf8b01ff0e069b9275f58929596ceb00d14d90e3e16cd6"
  },
  "kernelspec": {
   "display_name": "Python 3.6.9 64-bit",
   "name": "python3"
  },
  "language_info": {
   "codemirror_mode": {
    "name": "ipython",
    "version": 3
   },
   "file_extension": ".py",
   "mimetype": "text/x-python",
   "name": "python",
   "nbconvert_exporter": "python",
   "pygments_lexer": "ipython3",
   "version": "3.6.9"
  },
  "orig_nbformat": 4
 },
 "nbformat": 4,
 "nbformat_minor": 2
}
